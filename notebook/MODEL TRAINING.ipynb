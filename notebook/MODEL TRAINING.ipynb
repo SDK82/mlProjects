{
 "cells": [
  {
   "cell_type": "markdown",
   "metadata": {},
   "source": [
    "Import Data and Required Packages :"
   ]
  },
  {
   "cell_type": "code",
   "execution_count": 1,
   "metadata": {},
   "outputs": [],
   "source": [
    "# Basic Import:\n",
    "import numpy as np\n",
    "import pandas as pd\n",
    "import matplotlib.pyplot as plt\n",
    "import seaborn as sns"
   ]
  },
  {
   "cell_type": "code",
   "execution_count": 2,
   "metadata": {},
   "outputs": [],
   "source": [
    "# Modelling libraries:\n",
    "from sklearn.neighbors import KNeighborsRegressor\n",
    "from sklearn.tree import DecisionTreeRegressor\n",
    "from sklearn.ensemble import RandomForestRegressor, AdaBoostRegressor\n",
    "from sklearn.svm import SVR\n",
    "from sklearn.linear_model import LinearRegression, Ridge, Lasso\n",
    "# from catboost import CatBoostRegressor\n",
    "from xgboost import XGBRegressor\n",
    "import warnings\n",
    "\n",
    "# hyper-parameter tuning\n",
    "\n",
    "from sklearn.model_selection import RandomizedSearchCV"
   ]
  },
  {
   "cell_type": "markdown",
   "metadata": {},
   "source": [
    "Import CSV data as pandas dataframe"
   ]
  },
  {
   "cell_type": "code",
   "execution_count": 3,
   "metadata": {},
   "outputs": [],
   "source": [
    "df = pd.read_csv(r\"C:\\Users\\sneha\\Documents\\mlprojects\\notebook\\data\\stud.csv\")"
   ]
  },
  {
   "cell_type": "code",
   "execution_count": 4,
   "metadata": {},
   "outputs": [
    {
     "data": {
      "text/html": [
       "<div>\n",
       "<style scoped>\n",
       "    .dataframe tbody tr th:only-of-type {\n",
       "        vertical-align: middle;\n",
       "    }\n",
       "\n",
       "    .dataframe tbody tr th {\n",
       "        vertical-align: top;\n",
       "    }\n",
       "\n",
       "    .dataframe thead th {\n",
       "        text-align: right;\n",
       "    }\n",
       "</style>\n",
       "<table border=\"1\" class=\"dataframe\">\n",
       "  <thead>\n",
       "    <tr style=\"text-align: right;\">\n",
       "      <th></th>\n",
       "      <th>gender</th>\n",
       "      <th>race_ethnicity</th>\n",
       "      <th>parental_level_of_education</th>\n",
       "      <th>lunch</th>\n",
       "      <th>test_preparation_course</th>\n",
       "      <th>math_score</th>\n",
       "      <th>reading_score</th>\n",
       "      <th>writing_score</th>\n",
       "    </tr>\n",
       "  </thead>\n",
       "  <tbody>\n",
       "    <tr>\n",
       "      <th>0</th>\n",
       "      <td>female</td>\n",
       "      <td>group B</td>\n",
       "      <td>bachelor's degree</td>\n",
       "      <td>standard</td>\n",
       "      <td>none</td>\n",
       "      <td>72</td>\n",
       "      <td>72</td>\n",
       "      <td>74</td>\n",
       "    </tr>\n",
       "    <tr>\n",
       "      <th>1</th>\n",
       "      <td>female</td>\n",
       "      <td>group C</td>\n",
       "      <td>some college</td>\n",
       "      <td>standard</td>\n",
       "      <td>completed</td>\n",
       "      <td>69</td>\n",
       "      <td>90</td>\n",
       "      <td>88</td>\n",
       "    </tr>\n",
       "    <tr>\n",
       "      <th>2</th>\n",
       "      <td>female</td>\n",
       "      <td>group B</td>\n",
       "      <td>master's degree</td>\n",
       "      <td>standard</td>\n",
       "      <td>none</td>\n",
       "      <td>90</td>\n",
       "      <td>95</td>\n",
       "      <td>93</td>\n",
       "    </tr>\n",
       "    <tr>\n",
       "      <th>3</th>\n",
       "      <td>male</td>\n",
       "      <td>group A</td>\n",
       "      <td>associate's degree</td>\n",
       "      <td>free/reduced</td>\n",
       "      <td>none</td>\n",
       "      <td>47</td>\n",
       "      <td>57</td>\n",
       "      <td>44</td>\n",
       "    </tr>\n",
       "    <tr>\n",
       "      <th>4</th>\n",
       "      <td>male</td>\n",
       "      <td>group C</td>\n",
       "      <td>some college</td>\n",
       "      <td>standard</td>\n",
       "      <td>none</td>\n",
       "      <td>76</td>\n",
       "      <td>78</td>\n",
       "      <td>75</td>\n",
       "    </tr>\n",
       "  </tbody>\n",
       "</table>\n",
       "</div>"
      ],
      "text/plain": [
       "   gender race_ethnicity parental_level_of_education         lunch  \\\n",
       "0  female        group B           bachelor's degree      standard   \n",
       "1  female        group C                some college      standard   \n",
       "2  female        group B             master's degree      standard   \n",
       "3    male        group A          associate's degree  free/reduced   \n",
       "4    male        group C                some college      standard   \n",
       "\n",
       "  test_preparation_course  math_score  reading_score  writing_score  \n",
       "0                    none          72             72             74  \n",
       "1               completed          69             90             88  \n",
       "2                    none          90             95             93  \n",
       "3                    none          47             57             44  \n",
       "4                    none          76             78             75  "
      ]
     },
     "execution_count": 4,
     "metadata": {},
     "output_type": "execute_result"
    }
   ],
   "source": [
    "df.head()"
   ]
  },
  {
   "cell_type": "markdown",
   "metadata": {},
   "source": [
    "Preparing X and Y variable"
   ]
  },
  {
   "cell_type": "markdown",
   "metadata": {},
   "source": [
    "Predicting math_score : Target variable : math_score : Dependent feature : Y"
   ]
  },
  {
   "cell_type": "code",
   "execution_count": 5,
   "metadata": {},
   "outputs": [],
   "source": [
    "X = df.drop(columns=[\"math_score\"],axis=1)"
   ]
  },
  {
   "cell_type": "code",
   "execution_count": 6,
   "metadata": {},
   "outputs": [
    {
     "data": {
      "text/html": [
       "<div>\n",
       "<style scoped>\n",
       "    .dataframe tbody tr th:only-of-type {\n",
       "        vertical-align: middle;\n",
       "    }\n",
       "\n",
       "    .dataframe tbody tr th {\n",
       "        vertical-align: top;\n",
       "    }\n",
       "\n",
       "    .dataframe thead th {\n",
       "        text-align: right;\n",
       "    }\n",
       "</style>\n",
       "<table border=\"1\" class=\"dataframe\">\n",
       "  <thead>\n",
       "    <tr style=\"text-align: right;\">\n",
       "      <th></th>\n",
       "      <th>gender</th>\n",
       "      <th>race_ethnicity</th>\n",
       "      <th>parental_level_of_education</th>\n",
       "      <th>lunch</th>\n",
       "      <th>test_preparation_course</th>\n",
       "      <th>reading_score</th>\n",
       "      <th>writing_score</th>\n",
       "    </tr>\n",
       "  </thead>\n",
       "  <tbody>\n",
       "    <tr>\n",
       "      <th>0</th>\n",
       "      <td>female</td>\n",
       "      <td>group B</td>\n",
       "      <td>bachelor's degree</td>\n",
       "      <td>standard</td>\n",
       "      <td>none</td>\n",
       "      <td>72</td>\n",
       "      <td>74</td>\n",
       "    </tr>\n",
       "    <tr>\n",
       "      <th>1</th>\n",
       "      <td>female</td>\n",
       "      <td>group C</td>\n",
       "      <td>some college</td>\n",
       "      <td>standard</td>\n",
       "      <td>completed</td>\n",
       "      <td>90</td>\n",
       "      <td>88</td>\n",
       "    </tr>\n",
       "    <tr>\n",
       "      <th>2</th>\n",
       "      <td>female</td>\n",
       "      <td>group B</td>\n",
       "      <td>master's degree</td>\n",
       "      <td>standard</td>\n",
       "      <td>none</td>\n",
       "      <td>95</td>\n",
       "      <td>93</td>\n",
       "    </tr>\n",
       "    <tr>\n",
       "      <th>3</th>\n",
       "      <td>male</td>\n",
       "      <td>group A</td>\n",
       "      <td>associate's degree</td>\n",
       "      <td>free/reduced</td>\n",
       "      <td>none</td>\n",
       "      <td>57</td>\n",
       "      <td>44</td>\n",
       "    </tr>\n",
       "    <tr>\n",
       "      <th>4</th>\n",
       "      <td>male</td>\n",
       "      <td>group C</td>\n",
       "      <td>some college</td>\n",
       "      <td>standard</td>\n",
       "      <td>none</td>\n",
       "      <td>78</td>\n",
       "      <td>75</td>\n",
       "    </tr>\n",
       "  </tbody>\n",
       "</table>\n",
       "</div>"
      ],
      "text/plain": [
       "   gender race_ethnicity parental_level_of_education         lunch  \\\n",
       "0  female        group B           bachelor's degree      standard   \n",
       "1  female        group C                some college      standard   \n",
       "2  female        group B             master's degree      standard   \n",
       "3    male        group A          associate's degree  free/reduced   \n",
       "4    male        group C                some college      standard   \n",
       "\n",
       "  test_preparation_course  reading_score  writing_score  \n",
       "0                    none             72             74  \n",
       "1               completed             90             88  \n",
       "2                    none             95             93  \n",
       "3                    none             57             44  \n",
       "4                    none             78             75  "
      ]
     },
     "execution_count": 6,
     "metadata": {},
     "output_type": "execute_result"
    }
   ],
   "source": [
    "X.head()"
   ]
  },
  {
   "cell_type": "code",
   "execution_count": 7,
   "metadata": {},
   "outputs": [],
   "source": [
    "y = df[\"math_score\"]"
   ]
  },
  {
   "cell_type": "code",
   "execution_count": 8,
   "metadata": {},
   "outputs": [
    {
     "data": {
      "text/plain": [
       "0    72\n",
       "1    69\n",
       "2    90\n",
       "3    47\n",
       "4    76\n",
       "Name: math_score, dtype: int64"
      ]
     },
     "execution_count": 8,
     "metadata": {},
     "output_type": "execute_result"
    }
   ],
   "source": [
    "y.head()"
   ]
  },
  {
   "cell_type": "markdown",
   "metadata": {},
   "source": [
    "Create Column Transformer with 3 types of transformers or pipelines"
   ]
  },
  {
   "cell_type": "code",
   "execution_count": 9,
   "metadata": {},
   "outputs": [],
   "source": [
    "num_features = X.select_dtypes(exclude=\"object\").columns\n",
    "cat_features = X.select_dtypes(include=\"object\").columns"
   ]
  },
  {
   "cell_type": "code",
   "execution_count": 10,
   "metadata": {},
   "outputs": [],
   "source": [
    "from sklearn.preprocessing import OneHotEncoder,StandardScaler\n",
    "from sklearn.compose import ColumnTransformer"
   ]
  },
  {
   "cell_type": "code",
   "execution_count": 11,
   "metadata": {},
   "outputs": [],
   "source": [
    "numeric_transformer = StandardScaler()\n",
    "oh_transformer = OneHotEncoder()\n",
    "\n",
    "preprocessor = ColumnTransformer([\n",
    "    (\"OneHotEncoder\", oh_transformer, cat_features ),\n",
    "    (\"StandardScaler\", numeric_transformer, num_features)\n",
    "])"
   ]
  },
  {
   "cell_type": "code",
   "execution_count": 12,
   "metadata": {},
   "outputs": [],
   "source": [
    "X = preprocessor.fit_transform(X)"
   ]
  },
  {
   "cell_type": "code",
   "execution_count": 13,
   "metadata": {},
   "outputs": [
    {
     "data": {
      "text/plain": [
       "(1000, 19)"
      ]
     },
     "execution_count": 13,
     "metadata": {},
     "output_type": "execute_result"
    }
   ],
   "source": [
    "X.shape"
   ]
  },
  {
   "cell_type": "code",
   "execution_count": 14,
   "metadata": {},
   "outputs": [],
   "source": [
    "# split the dataset into train test split\n",
    "\n",
    "from sklearn.model_selection import train_test_split\n",
    "X_train, X_test, y_train, y_test = train_test_split(X,y,test_size =0.2, random_state=42)"
   ]
  },
  {
   "cell_type": "code",
   "execution_count": 15,
   "metadata": {},
   "outputs": [
    {
     "data": {
      "text/plain": [
       "(800, 19)"
      ]
     },
     "execution_count": 15,
     "metadata": {},
     "output_type": "execute_result"
    }
   ],
   "source": [
    "X_train.shape"
   ]
  },
  {
   "cell_type": "code",
   "execution_count": 16,
   "metadata": {},
   "outputs": [
    {
     "data": {
      "text/plain": [
       "(800,)"
      ]
     },
     "execution_count": 16,
     "metadata": {},
     "output_type": "execute_result"
    }
   ],
   "source": [
    "y_train.shape"
   ]
  },
  {
   "cell_type": "markdown",
   "metadata": {},
   "source": [
    "Create an evaluate function to give all metrics after model training:"
   ]
  },
  {
   "cell_type": "code",
   "execution_count": 17,
   "metadata": {},
   "outputs": [],
   "source": [
    "from sklearn.metrics import mean_absolute_error, mean_squared_error, root_mean_squared_error, r2_score"
   ]
  },
  {
   "cell_type": "code",
   "execution_count": 18,
   "metadata": {},
   "outputs": [],
   "source": [
    "def evaluate_model(true, predicted):\n",
    "    mae = mean_absolute_error(true,predicted)\n",
    "    mse = mean_squared_error(true,predicted)\n",
    "    rmse = root_mean_squared_error(true,predicted)\n",
    "    r2_square = r2_score(true,predicted)\n",
    "\n",
    "    return mae,mse,rmse,r2_square"
   ]
  },
  {
   "cell_type": "code",
   "execution_count": 19,
   "metadata": {},
   "outputs": [],
   "source": [
    "models = {\n",
    "    \"Linear Regression\" : LinearRegression(),\n",
    "    \"Lasso\" : Lasso(),\n",
    "    \"Ridge\" : Ridge(),\n",
    "    \"K-Neighbors Regressor\" : KNeighborsRegressor(),\n",
    "    \"DecisionTree Regressor\" : DecisionTreeRegressor(),\n",
    "    \"RandomForest Regressor\" : RandomForestRegressor(),\n",
    "    \"XGB Regressor\" : XGBRegressor(),\n",
    "    \"AdaBoost Regressor\" : AdaBoostRegressor()\n",
    "}"
   ]
  },
  {
   "cell_type": "code",
   "execution_count": 20,
   "metadata": {},
   "outputs": [
    {
     "name": "stdout",
     "output_type": "stream",
     "text": [
      "LINEAR REGRESSION\n",
      "===================================\n",
      "\n",
      "\n",
      "MODEL PERFORMANCE FOR TRAINING SET\n",
      "\n",
      "\n",
      "- Mean Absolute Error : 4.2667\n",
      "- Mean Squared Error : 28.3349\n",
      "- Root Mean Squared Error : 5.3231\n",
      "- r2 Square : 0.8743\n",
      "-----------------------------------------------------------------\n",
      "MODEL PERFORMANCE FOR TESTING SET\n",
      "\n",
      "\n",
      "- Mean Absolute Error : 4.2148\n",
      "- Mean Squared Error : 29.0952\n",
      "- Root Mean Squared Error : 5.3940\n",
      "- r2 Square : 0.8804\n",
      "===================================\n",
      "\n",
      "\n",
      "LASSO\n",
      "===================================\n",
      "\n",
      "\n",
      "MODEL PERFORMANCE FOR TRAINING SET\n",
      "\n",
      "\n",
      "- Mean Absolute Error : 5.2063\n",
      "- Mean Squared Error : 43.4784\n",
      "- Root Mean Squared Error : 6.5938\n",
      "- r2 Square : 0.8071\n",
      "-----------------------------------------------------------------\n",
      "MODEL PERFORMANCE FOR TESTING SET\n",
      "\n",
      "\n",
      "- Mean Absolute Error : 5.1579\n",
      "- Mean Squared Error : 42.5064\n",
      "- Root Mean Squared Error : 6.5197\n",
      "- r2 Square : 0.8253\n",
      "===================================\n",
      "\n",
      "\n",
      "RIDGE\n",
      "===================================\n",
      "\n",
      "\n",
      "MODEL PERFORMANCE FOR TRAINING SET\n",
      "\n",
      "\n",
      "- Mean Absolute Error : 4.2650\n",
      "- Mean Squared Error : 28.3378\n",
      "- Root Mean Squared Error : 5.3233\n",
      "- r2 Square : 0.8743\n",
      "-----------------------------------------------------------------\n",
      "MODEL PERFORMANCE FOR TESTING SET\n",
      "\n",
      "\n",
      "- Mean Absolute Error : 4.2111\n",
      "- Mean Squared Error : 29.0563\n",
      "- Root Mean Squared Error : 5.3904\n",
      "- r2 Square : 0.8806\n",
      "===================================\n",
      "\n",
      "\n",
      "K-NEIGHBORS REGRESSOR\n",
      "===================================\n",
      "\n",
      "\n",
      "MODEL PERFORMANCE FOR TRAINING SET\n",
      "\n",
      "\n",
      "- Mean Absolute Error : 4.5168\n",
      "- Mean Squared Error : 32.5799\n",
      "- Root Mean Squared Error : 5.7079\n",
      "- r2 Square : 0.8555\n",
      "-----------------------------------------------------------------\n",
      "MODEL PERFORMANCE FOR TESTING SET\n",
      "\n",
      "\n",
      "- Mean Absolute Error : 5.6210\n",
      "- Mean Squared Error : 52.6066\n",
      "- Root Mean Squared Error : 7.2530\n",
      "- r2 Square : 0.7838\n",
      "===================================\n",
      "\n",
      "\n",
      "DECISIONTREE REGRESSOR\n",
      "===================================\n",
      "\n",
      "\n",
      "MODEL PERFORMANCE FOR TRAINING SET\n",
      "\n",
      "\n",
      "- Mean Absolute Error : 0.0187\n",
      "- Mean Squared Error : 0.0781\n",
      "- Root Mean Squared Error : 0.2795\n",
      "- r2 Square : 0.9997\n",
      "-----------------------------------------------------------------\n",
      "MODEL PERFORMANCE FOR TESTING SET\n",
      "\n",
      "\n",
      "- Mean Absolute Error : 6.2700\n",
      "- Mean Squared Error : 61.9300\n",
      "- Root Mean Squared Error : 7.8696\n",
      "- r2 Square : 0.7455\n",
      "===================================\n",
      "\n",
      "\n",
      "RANDOMFOREST REGRESSOR\n",
      "===================================\n",
      "\n",
      "\n",
      "MODEL PERFORMANCE FOR TRAINING SET\n",
      "\n",
      "\n",
      "- Mean Absolute Error : 1.8271\n",
      "- Mean Squared Error : 5.2420\n",
      "- Root Mean Squared Error : 2.2896\n",
      "- r2 Square : 0.9767\n",
      "-----------------------------------------------------------------\n",
      "MODEL PERFORMANCE FOR TESTING SET\n",
      "\n",
      "\n",
      "- Mean Absolute Error : 4.6994\n",
      "- Mean Squared Error : 36.4134\n",
      "- Root Mean Squared Error : 6.0344\n",
      "- r2 Square : 0.8504\n",
      "===================================\n",
      "\n",
      "\n",
      "XGB REGRESSOR\n",
      "===================================\n",
      "\n",
      "\n",
      "MODEL PERFORMANCE FOR TRAINING SET\n",
      "\n",
      "\n",
      "- Mean Absolute Error : 0.6875\n",
      "- Mean Squared Error : 1.0146\n",
      "- Root Mean Squared Error : 1.0073\n",
      "- r2 Square : 0.9955\n",
      "-----------------------------------------------------------------\n",
      "MODEL PERFORMANCE FOR TESTING SET\n",
      "\n",
      "\n",
      "- Mean Absolute Error : 5.0577\n",
      "- Mean Squared Error : 41.9037\n",
      "- Root Mean Squared Error : 6.4733\n",
      "- r2 Square : 0.8278\n",
      "===================================\n",
      "\n",
      "\n",
      "ADABOOST REGRESSOR\n",
      "===================================\n",
      "\n",
      "\n",
      "MODEL PERFORMANCE FOR TRAINING SET\n",
      "\n",
      "\n",
      "- Mean Absolute Error : 4.7472\n",
      "- Mean Squared Error : 33.4173\n",
      "- Root Mean Squared Error : 5.7808\n",
      "- r2 Square : 0.8518\n",
      "-----------------------------------------------------------------\n",
      "MODEL PERFORMANCE FOR TESTING SET\n",
      "\n",
      "\n",
      "- Mean Absolute Error : 4.5556\n",
      "- Mean Squared Error : 35.0177\n",
      "- Root Mean Squared Error : 5.9176\n",
      "- r2 Square : 0.8561\n",
      "===================================\n",
      "\n",
      "\n"
     ]
    }
   ],
   "source": [
    "model_list = []\n",
    "r2_list = []\n",
    "\n",
    "for i in range (len(list(models))):\n",
    "    model = list(models.values())[i]\n",
    "    model.fit(X_train,y_train)\n",
    "\n",
    "\n",
    "    # make predictions\n",
    "\n",
    "    y_train_predict = model.predict(X_train)\n",
    "    y_test_predict = model.predict(X_test)\n",
    "\n",
    "    # Evaluate model using evaluation function:\n",
    "\n",
    "    model_train_mae , model_train_mse, model_train_rmse, model_train_r2_square = evaluate_model(y_train,y_train_predict)\n",
    "    model_test_mae , model_test_mse, model_test_rmse, model_test_r2_square = evaluate_model(y_test,y_test_predict)\n",
    "\n",
    "\n",
    "    # Print all \n",
    "\n",
    "    print(list(models.keys())[i].upper())\n",
    "    print(\"=\"*35)\n",
    "    print(\"\\n\")\n",
    "    model_list.append(list(models.keys())[i])\n",
    "\n",
    "    print (\"MODEL PERFORMANCE FOR TRAINING SET\")\n",
    "    print(\"\\n\")\n",
    "    print(\"- Mean Absolute Error : {:.4f}\".format(model_train_mae))\n",
    "    print(\"- Mean Squared Error : {:.4f}\".format(model_train_mse))\n",
    "    print(\"- Root Mean Squared Error : {:.4f}\".format(model_train_rmse))\n",
    "    print(\"- r2 Square : {:.4f}\".format(model_train_r2_square))\n",
    "\n",
    "    print(\"-----------------------------------------------------------------\")\n",
    "\n",
    "    print (\"MODEL PERFORMANCE FOR TESTING SET\")\n",
    "    print(\"\\n\")\n",
    "    print(\"- Mean Absolute Error : {:.4f}\".format(model_test_mae))\n",
    "    print(\"- Mean Squared Error : {:.4f}\".format(model_test_mse))\n",
    "    print(\"- Root Mean Squared Error : {:.4f}\".format(model_test_rmse))\n",
    "    print(\"- r2 Square : {:.4f}\".format(model_test_r2_square))\n",
    "\n",
    "\n",
    "    # append r2 score of test dataset in r2_list\n",
    "    r2_list.append(model_test_r2_square)\n",
    "\n",
    "    print(\"=\"*35)\n",
    "    print(\"\\n\")\n"
   ]
  },
  {
   "cell_type": "code",
   "execution_count": 21,
   "metadata": {},
   "outputs": [
    {
     "data": {
      "text/html": [
       "<div>\n",
       "<style scoped>\n",
       "    .dataframe tbody tr th:only-of-type {\n",
       "        vertical-align: middle;\n",
       "    }\n",
       "\n",
       "    .dataframe tbody tr th {\n",
       "        vertical-align: top;\n",
       "    }\n",
       "\n",
       "    .dataframe thead th {\n",
       "        text-align: right;\n",
       "    }\n",
       "</style>\n",
       "<table border=\"1\" class=\"dataframe\">\n",
       "  <thead>\n",
       "    <tr style=\"text-align: right;\">\n",
       "      <th></th>\n",
       "      <th>Model Name</th>\n",
       "      <th>R2 Score</th>\n",
       "    </tr>\n",
       "  </thead>\n",
       "  <tbody>\n",
       "    <tr>\n",
       "      <th>2</th>\n",
       "      <td>Ridge</td>\n",
       "      <td>0.880593</td>\n",
       "    </tr>\n",
       "    <tr>\n",
       "      <th>0</th>\n",
       "      <td>Linear Regression</td>\n",
       "      <td>0.880433</td>\n",
       "    </tr>\n",
       "    <tr>\n",
       "      <th>7</th>\n",
       "      <td>AdaBoost Regressor</td>\n",
       "      <td>0.856095</td>\n",
       "    </tr>\n",
       "    <tr>\n",
       "      <th>5</th>\n",
       "      <td>RandomForest Regressor</td>\n",
       "      <td>0.850359</td>\n",
       "    </tr>\n",
       "    <tr>\n",
       "      <th>6</th>\n",
       "      <td>XGB Regressor</td>\n",
       "      <td>0.827797</td>\n",
       "    </tr>\n",
       "    <tr>\n",
       "      <th>1</th>\n",
       "      <td>Lasso</td>\n",
       "      <td>0.825320</td>\n",
       "    </tr>\n",
       "    <tr>\n",
       "      <th>3</th>\n",
       "      <td>K-Neighbors Regressor</td>\n",
       "      <td>0.783813</td>\n",
       "    </tr>\n",
       "    <tr>\n",
       "      <th>4</th>\n",
       "      <td>DecisionTree Regressor</td>\n",
       "      <td>0.745498</td>\n",
       "    </tr>\n",
       "  </tbody>\n",
       "</table>\n",
       "</div>"
      ],
      "text/plain": [
       "               Model Name  R2 Score\n",
       "2                   Ridge  0.880593\n",
       "0       Linear Regression  0.880433\n",
       "7      AdaBoost Regressor  0.856095\n",
       "5  RandomForest Regressor  0.850359\n",
       "6           XGB Regressor  0.827797\n",
       "1                   Lasso  0.825320\n",
       "3   K-Neighbors Regressor  0.783813\n",
       "4  DecisionTree Regressor  0.745498"
      ]
     },
     "execution_count": 21,
     "metadata": {},
     "output_type": "execute_result"
    }
   ],
   "source": [
    "# Results in a Dataframe \n",
    "\n",
    "pd.DataFrame(list(zip(model_list,r2_list)), \n",
    "             columns = [\"Model Name\", \"R2 Score\"],\n",
    "             ).sort_values(by=[\"R2 Score\"],ascending=False)"
   ]
  },
  {
   "cell_type": "markdown",
   "metadata": {},
   "source": [
    "insights : so there is not much difference by Ridge and Linear Regression  . so we can take Linear Regression "
   ]
  },
  {
   "cell_type": "markdown",
   "metadata": {},
   "source": [
    "# Linear Regression"
   ]
  },
  {
   "cell_type": "code",
   "execution_count": 22,
   "metadata": {},
   "outputs": [
    {
     "name": "stdout",
     "output_type": "stream",
     "text": [
      "Accuracy of the best model is 88.04\n"
     ]
    }
   ],
   "source": [
    "best_model = LinearRegression(fit_intercept=True)\n",
    "best_model = best_model.fit(X_train,y_train)\n",
    "\n",
    "best_model_y_test_prediction = best_model.predict(X_test)\n",
    "best_model_evaluation_score = r2_score(y_test,best_model_y_test_prediction)*100\n",
    "\n",
    "print(\"Accuracy of the best model is %.2f\" %best_model_evaluation_score)"
   ]
  },
  {
   "cell_type": "markdown",
   "metadata": {},
   "source": [
    "Plots of Linear Regression Model"
   ]
  },
  {
   "cell_type": "code",
   "execution_count": 23,
   "metadata": {},
   "outputs": [
    {
     "data": {
      "image/png": "[encoded data removed]",
      "text/plain": [
       "<Figure size 640x480 with 1 Axes>"
      ]
     },
     "metadata": {},
     "output_type": "display_data"
    }
   ],
   "source": [
    "# plot y_predict and y_test \n",
    "\n",
    "plt.scatter(x=y_test, y=best_model_y_test_prediction)\n",
    "plt.xlabel(\"Actual Test Values\");\n",
    "plt.ylabel(\"Predicted Test Values\");"
   ]
  },
  {
   "cell_type": "code",
   "execution_count": 27,
   "metadata": {},
   "outputs": [
    {
     "data": {
      "image/png": "[encoded data removed]",
      "text/plain": [
       "<Figure size 600x300 with 1 Axes>"
      ]
     },
     "metadata": {},
     "output_type": "display_data"
    }
   ],
   "source": [
    "plt.figure(figsize=(6,3))\n",
    "sns.regplot(x=y_test,\n",
    "            y=best_model_y_test_prediction,\n",
    "            ci=None);\n",
    "plt.xlabel(\"Actual test values\");\n",
    "plt.ylabel(\"Predicted test values\");"
   ]
  },
  {
   "cell_type": "markdown",
   "metadata": {},
   "source": [
    "show the difference between actual and predicted test values "
   ]
  },
  {
   "cell_type": "code",
   "execution_count": 25,
   "metadata": {},
   "outputs": [],
   "source": [
    "error_df = pd.DataFrame({\n",
    "    \"Actual test Value\" : y_test,\n",
    "    \"Predicted test Value\" : best_model_y_test_prediction,\n",
    "    \"Difference/ Error\" : y_test - best_model_y_test_prediction\n",
    "})\n"
   ]
  },
  {
   "cell_type": "code",
   "execution_count": 26,
   "metadata": {},
   "outputs": [
    {
     "data": {
      "text/html": [
       "<div>\n",
       "<style scoped>\n",
       "    .dataframe tbody tr th:only-of-type {\n",
       "        vertical-align: middle;\n",
       "    }\n",
       "\n",
       "    .dataframe tbody tr th {\n",
       "        vertical-align: top;\n",
       "    }\n",
       "\n",
       "    .dataframe thead th {\n",
       "        text-align: right;\n",
       "    }\n",
       "</style>\n",
       "<table border=\"1\" class=\"dataframe\">\n",
       "  <thead>\n",
       "    <tr style=\"text-align: right;\">\n",
       "      <th></th>\n",
       "      <th>Actual test Value</th>\n",
       "      <th>Predicted test Value</th>\n",
       "      <th>Difference/ Error</th>\n",
       "    </tr>\n",
       "  </thead>\n",
       "  <tbody>\n",
       "    <tr>\n",
       "      <th>521</th>\n",
       "      <td>91</td>\n",
       "      <td>76.387970</td>\n",
       "      <td>14.612030</td>\n",
       "    </tr>\n",
       "    <tr>\n",
       "      <th>737</th>\n",
       "      <td>53</td>\n",
       "      <td>58.885970</td>\n",
       "      <td>-5.885970</td>\n",
       "    </tr>\n",
       "    <tr>\n",
       "      <th>740</th>\n",
       "      <td>80</td>\n",
       "      <td>76.990265</td>\n",
       "      <td>3.009735</td>\n",
       "    </tr>\n",
       "    <tr>\n",
       "      <th>660</th>\n",
       "      <td>74</td>\n",
       "      <td>76.851804</td>\n",
       "      <td>-2.851804</td>\n",
       "    </tr>\n",
       "    <tr>\n",
       "      <th>411</th>\n",
       "      <td>84</td>\n",
       "      <td>87.627378</td>\n",
       "      <td>-3.627378</td>\n",
       "    </tr>\n",
       "  </tbody>\n",
       "</table>\n",
       "</div>"
      ],
      "text/plain": [
       "     Actual test Value  Predicted test Value  Difference/ Error\n",
       "521                 91             76.387970          14.612030\n",
       "737                 53             58.885970          -5.885970\n",
       "740                 80             76.990265           3.009735\n",
       "660                 74             76.851804          -2.851804\n",
       "411                 84             87.627378          -3.627378"
      ]
     },
     "execution_count": 26,
     "metadata": {},
     "output_type": "execute_result"
    }
   ],
   "source": [
    "error_df.head()"
   ]
  },
  {
   "cell_type": "code",
   "execution_count": null,
   "metadata": {},
   "outputs": [],
   "source": []
  }
 ],
 "metadata": {
  "kernelspec": {
   "display_name": "venv",
   "language": "python",
   "name": "python3"
  },
  "language_info": {
   "codemirror_mode": {
    "name": "ipython",
    "version": 3
   },
   "file_extension": ".py",
   "mimetype": "text/x-python",
   "name": "python",
   "nbconvert_exporter": "python",
   "pygments_lexer": "ipython3",
   "version": "3.13.0"
  }
 },
 "nbformat": 4,
 "nbformat_minor": 2
}
